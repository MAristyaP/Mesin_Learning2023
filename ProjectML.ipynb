{
  "nbformat": 4,
  "nbformat_minor": 0,
  "metadata": {
    "colab": {
      "provenance": [],
      "gpuType": "T4",
      "authorship_tag": "ABX9TyNlN2mF7aawWUO+pxnILI2y",
      "include_colab_link": true
    },
    "kernelspec": {
      "name": "python3",
      "display_name": "Python 3"
    },
    "language_info": {
      "name": "python"
    },
    "accelerator": "GPU"
  },
  "cells": [
    {
      "cell_type": "markdown",
      "metadata": {
        "id": "view-in-github",
        "colab_type": "text"
      },
      "source": [
        "<a href=\"https://colab.research.google.com/github/MAristyaP/Mesin_Learning2023/blob/main/ProjectML.ipynb\" target=\"_parent\"><img src=\"https://colab.research.google.com/assets/colab-badge.svg\" alt=\"Open In Colab\"/></a>"
      ]
    },
    {
      "cell_type": "markdown",
      "source": [
        "Hand Writting Recognition"
      ],
      "metadata": {
        "id": "Gz7m3ydcfc7e"
      }
    },
    {
      "cell_type": "code",
      "source": [
        "!pip install easyocr"
      ],
      "metadata": {
        "colab": {
          "base_uri": "https://localhost:8080/"
        },
        "id": "PhYZozFchg21",
        "outputId": "3bb3bf84-3ddd-48d2-bc87-cdc86f69e171"
      },
      "execution_count": 2,
      "outputs": [
        {
          "output_type": "stream",
          "name": "stdout",
          "text": [
            "Collecting easyocr\n",
            "  Downloading easyocr-1.7.1-py3-none-any.whl (2.9 MB)\n",
            "\u001b[2K     \u001b[90m━━━━━━━━━━━━━━━━━━━━━━━━━━━━━━━━━━━━━━━━\u001b[0m \u001b[32m2.9/2.9 MB\u001b[0m \u001b[31m13.0 MB/s\u001b[0m eta \u001b[36m0:00:00\u001b[0m\n",
            "\u001b[?25hRequirement already satisfied: torch in /usr/local/lib/python3.10/dist-packages (from easyocr) (2.1.0+cu118)\n",
            "Requirement already satisfied: torchvision>=0.5 in /usr/local/lib/python3.10/dist-packages (from easyocr) (0.16.0+cu118)\n",
            "Requirement already satisfied: opencv-python-headless in /usr/local/lib/python3.10/dist-packages (from easyocr) (4.8.1.78)\n",
            "Requirement already satisfied: scipy in /usr/local/lib/python3.10/dist-packages (from easyocr) (1.11.4)\n",
            "Requirement already satisfied: numpy in /usr/local/lib/python3.10/dist-packages (from easyocr) (1.23.5)\n",
            "Requirement already satisfied: Pillow in /usr/local/lib/python3.10/dist-packages (from easyocr) (9.4.0)\n",
            "Requirement already satisfied: scikit-image in /usr/local/lib/python3.10/dist-packages (from easyocr) (0.19.3)\n",
            "Collecting python-bidi (from easyocr)\n",
            "  Downloading python_bidi-0.4.2-py2.py3-none-any.whl (30 kB)\n",
            "Requirement already satisfied: PyYAML in /usr/local/lib/python3.10/dist-packages (from easyocr) (6.0.1)\n",
            "Requirement already satisfied: Shapely in /usr/local/lib/python3.10/dist-packages (from easyocr) (2.0.2)\n",
            "Collecting pyclipper (from easyocr)\n",
            "  Downloading pyclipper-1.3.0.post5-cp310-cp310-manylinux_2_12_x86_64.manylinux2010_x86_64.whl (908 kB)\n",
            "\u001b[2K     \u001b[90m━━━━━━━━━━━━━━━━━━━━━━━━━━━━━━━━━━━━━━━━\u001b[0m \u001b[32m908.3/908.3 kB\u001b[0m \u001b[31m25.0 MB/s\u001b[0m eta \u001b[36m0:00:00\u001b[0m\n",
            "\u001b[?25hCollecting ninja (from easyocr)\n",
            "  Downloading ninja-1.11.1.1-py2.py3-none-manylinux1_x86_64.manylinux_2_5_x86_64.whl (307 kB)\n",
            "\u001b[2K     \u001b[90m━━━━━━━━━━━━━━━━━━━━━━━━━━━━━━━━━━━━━━━━\u001b[0m \u001b[32m307.2/307.2 kB\u001b[0m \u001b[31m23.4 MB/s\u001b[0m eta \u001b[36m0:00:00\u001b[0m\n",
            "\u001b[?25hRequirement already satisfied: requests in /usr/local/lib/python3.10/dist-packages (from torchvision>=0.5->easyocr) (2.31.0)\n",
            "Requirement already satisfied: filelock in /usr/local/lib/python3.10/dist-packages (from torch->easyocr) (3.13.1)\n",
            "Requirement already satisfied: typing-extensions in /usr/local/lib/python3.10/dist-packages (from torch->easyocr) (4.5.0)\n",
            "Requirement already satisfied: sympy in /usr/local/lib/python3.10/dist-packages (from torch->easyocr) (1.12)\n",
            "Requirement already satisfied: networkx in /usr/local/lib/python3.10/dist-packages (from torch->easyocr) (3.2.1)\n",
            "Requirement already satisfied: jinja2 in /usr/local/lib/python3.10/dist-packages (from torch->easyocr) (3.1.2)\n",
            "Requirement already satisfied: fsspec in /usr/local/lib/python3.10/dist-packages (from torch->easyocr) (2023.6.0)\n",
            "Requirement already satisfied: triton==2.1.0 in /usr/local/lib/python3.10/dist-packages (from torch->easyocr) (2.1.0)\n",
            "Requirement already satisfied: six in /usr/local/lib/python3.10/dist-packages (from python-bidi->easyocr) (1.16.0)\n",
            "Requirement already satisfied: imageio>=2.4.1 in /usr/local/lib/python3.10/dist-packages (from scikit-image->easyocr) (2.31.6)\n",
            "Requirement already satisfied: tifffile>=2019.7.26 in /usr/local/lib/python3.10/dist-packages (from scikit-image->easyocr) (2023.9.26)\n",
            "Requirement already satisfied: PyWavelets>=1.1.1 in /usr/local/lib/python3.10/dist-packages (from scikit-image->easyocr) (1.5.0)\n",
            "Requirement already satisfied: packaging>=20.0 in /usr/local/lib/python3.10/dist-packages (from scikit-image->easyocr) (23.2)\n",
            "Requirement already satisfied: MarkupSafe>=2.0 in /usr/local/lib/python3.10/dist-packages (from jinja2->torch->easyocr) (2.1.3)\n",
            "Requirement already satisfied: charset-normalizer<4,>=2 in /usr/local/lib/python3.10/dist-packages (from requests->torchvision>=0.5->easyocr) (3.3.2)\n",
            "Requirement already satisfied: idna<4,>=2.5 in /usr/local/lib/python3.10/dist-packages (from requests->torchvision>=0.5->easyocr) (3.6)\n",
            "Requirement already satisfied: urllib3<3,>=1.21.1 in /usr/local/lib/python3.10/dist-packages (from requests->torchvision>=0.5->easyocr) (2.0.7)\n",
            "Requirement already satisfied: certifi>=2017.4.17 in /usr/local/lib/python3.10/dist-packages (from requests->torchvision>=0.5->easyocr) (2023.11.17)\n",
            "Requirement already satisfied: mpmath>=0.19 in /usr/local/lib/python3.10/dist-packages (from sympy->torch->easyocr) (1.3.0)\n",
            "Installing collected packages: pyclipper, ninja, python-bidi, easyocr\n",
            "Successfully installed easyocr-1.7.1 ninja-1.11.1.1 pyclipper-1.3.0.post5 python-bidi-0.4.2\n"
          ]
        }
      ]
    },
    {
      "cell_type": "code",
      "execution_count": 3,
      "metadata": {
        "id": "9KnaZNrw_CzF"
      },
      "outputs": [],
      "source": [
        "import cv2\n",
        "import easyocr\n",
        "import matplotlib.pyplot as plt"
      ]
    },
    {
      "cell_type": "code",
      "source": [
        "image_path = '/content/Project_ML.jpg'\n",
        "\n",
        "img = cv2.imread(image_path)"
      ],
      "metadata": {
        "id": "0p1sBZ8Ohb3i"
      },
      "execution_count": 4,
      "outputs": []
    },
    {
      "cell_type": "code",
      "source": [
        "reader = easyocr.Reader(['en'], gpu=False)"
      ],
      "metadata": {
        "colab": {
          "base_uri": "https://localhost:8080/"
        },
        "id": "F2sbCdefh-m0",
        "outputId": "67b13f92-c31f-44b3-d346-3bca7f96e243"
      },
      "execution_count": 5,
      "outputs": [
        {
          "output_type": "stream",
          "name": "stderr",
          "text": [
            "WARNING:easyocr.easyocr:Using CPU. Note: This module is much faster with a GPU.\n",
            "WARNING:easyocr.easyocr:Downloading detection model, please wait. This may take several minutes depending upon your network connection.\n"
          ]
        },
        {
          "output_type": "stream",
          "name": "stdout",
          "text": [
            "Progress: |██████████████████████████████████████████████████| 100.0% Complete"
          ]
        },
        {
          "output_type": "stream",
          "name": "stderr",
          "text": [
            "WARNING:easyocr.easyocr:Downloading recognition model, please wait. This may take several minutes depending upon your network connection.\n"
          ]
        },
        {
          "output_type": "stream",
          "name": "stdout",
          "text": [
            "Progress: |██████████████████████████████████████████████████| 100.0% Complete"
          ]
        }
      ]
    },
    {
      "cell_type": "code",
      "source": [
        "text = reader.readtext(img)\n",
        "\n",
        "for t in text:\n",
        "  print(t)"
      ],
      "metadata": {
        "colab": {
          "base_uri": "https://localhost:8080/"
        },
        "id": "lzN0iNpMiJhF",
        "outputId": "d68923db-6d3b-4771-ae40-c5ac542ebe66"
      },
      "execution_count": 7,
      "outputs": [
        {
          "output_type": "stream",
          "name": "stdout",
          "text": [
            "([[456, 540], [740, 540], [740, 570], [456, 570]], 'PROVINSI JAWA Timur', 0.5489210147869127)\n",
            "([[452, 566], [746, 566], [746, 596], [452, 596]], 'KABUPATEN SIDOARJO', 0.933821979393987)\n",
            "([[211, 596], [285, 596], [285, 634], [211, 634]], 'NIK', 0.9931386425961067)\n",
            "([[389, 601], [729, 601], [729, 637], [389, 637]], '3515172006020003', 0.9990876625574544)\n",
            "([[211, 644], [280, 644], [280, 670], [211, 670]], 'Aama', 0.04963000491261482)\n",
            "([[406, 648], [634, 648], [634, 672], [406, 672]], 'MUHAMMAD ARISTYA', 0.654097031962442)\n",
            "([[406, 668], [524, 668], [524, 692], [406, 692]], 'PRAYITNO', 0.6991641431808092)\n",
            "([[211, 687], [384, 687], [384, 717], [211, 717]], 'Teneatig Lahu', 0.2689316315749437)\n",
            "([[406, 689], [642, 689], [642, 716], [406, 716]], 'SIDOAR O,20 06-2002', 0.41987968950846)\n",
            "([[213, 715], [349, 715], [349, 735], [213, 735]], 'GnsRam', 0.009021381164517615)\n",
            "([[407, 715], [513, 715], [513, 735], [407, 735]], 'LAKA-LARI', 0.28548632599737844)\n",
            "([[582, 714], [692, 714], [692, 738], [582, 738]], 'Gol: Darah', 0.6538410968181724)\n",
            "([[210, 734], [290, 734], [290, 758], [210, 758]], 'Anat', 0.15448220074176788)\n",
            "([[404, 734], [706, 734], [706, 760], [404, 760]], 'PERUM VALENCIA TERRACE', 0.8537091736468846)\n",
            "([[406, 758], [536, 758], [536, 782], [406, 782]], 'CC 05 NO.8', 0.4667309597507644)\n",
            "([[256, 778], [336, 778], [336, 802], [256, 802]], 'RLRW', 0.3530295193195343)\n",
            "([[404, 780], [490, 780], [490, 804], [404, 804]], 'C01006', 0.3393466558251854)\n",
            "([[254, 802], [352, 802], [352, 826], [254, 826]], 'RelDesa', 0.3144253395807797)\n",
            "([[404, 802], [538, 802], [538, 826], [404, 826]], 'GEMURUNG', 0.9890693678761195)\n",
            "([[255, 827], [377, 827], [377, 847], [255, 847]], 'Reramaln', 0.34675661845641953)\n",
            "([[404, 824], [536, 824], [536, 848], [404, 848]], 'GEDANGAN', 0.6513203398268572)\n",
            "([[203, 847], [284, 847], [284, 874], [203, 874]], 'Mana', 0.094905786216259)\n",
            "([[403, 849], [477, 849], [477, 869], [403, 869]], 'ISLM', 0.1550307720899582)\n",
            "([[813, 853], [911, 853], [911, 873], [813, 873]], 'SIDOARJO', 0.9776376764865458)\n",
            "([[204, 868], [566, 868], [566, 894], [204, 894]], 'Sats Perkatinan: BELUM KAWIN', 0.37734597927836194)\n",
            "([[815, 873], [913, 873], [913, 891], [815, 891]], '26-02-2020', 0.9004525214048658)\n",
            "([[204, 894], [314, 894], [314, 918], [204, 918]], 'Peaerean', 0.19495918080946978)\n",
            "([[404, 890], [642, 890], [642, 916], [404, 916]], 'PELAJARAAHASISWA', 0.4356066230882122)\n",
            "([[204, 920], [396, 920], [396, 944], [204, 944]], 'Reramanegaraan', 0.6368282060903043)\n",
            "([[405, 917], [453, 917], [453, 937], [405, 937]], 'WN', 0.66052121756094)\n",
            "([[200, 940], [362, 940], [362, 969], [200, 969]], 'Beraku Hngga', 0.3728600637605514)\n",
            "([[402, 936], [576, 936], [576, 964], [402, 964]], 'SEUMUR HIDUP', 0.9135992579885499)\n"
          ]
        }
      ]
    },
    {
      "cell_type": "code",
      "source": [],
      "metadata": {
        "id": "RbY80R-WiSSA"
      },
      "execution_count": null,
      "outputs": []
    }
  ]
}