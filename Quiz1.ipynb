{
  "nbformat": 4,
  "nbformat_minor": 0,
  "metadata": {
    "colab": {
      "provenance": [],
      "authorship_tag": "ABX9TyPRFyX09AyrHyVAs4nlCRPe",
      "include_colab_link": true
    },
    "kernelspec": {
      "name": "python3",
      "display_name": "Python 3"
    },
    "language_info": {
      "name": "python"
    }
  },
  "cells": [
    {
      "cell_type": "markdown",
      "metadata": {
        "id": "view-in-github",
        "colab_type": "text"
      },
      "source": [
        "<a href=\"https://colab.research.google.com/github/MAristyaP/Mesin_Learning2023/blob/main/Quiz1.ipynb\" target=\"_parent\"><img src=\"https://colab.research.google.com/assets/colab-badge.svg\" alt=\"Open In Colab\"/></a>"
      ]
    },
    {
      "cell_type": "code",
      "execution_count": 2,
      "metadata": {
        "colab": {
          "base_uri": "https://localhost:8080/"
        },
        "id": "-jj-859AWAIi",
        "outputId": "a0a0f32c-9875-4060-8ea0-05e60ff5b32d"
      },
      "outputs": [
        {
          "output_type": "stream",
          "name": "stderr",
          "text": [
            "/usr/local/lib/python3.10/dist-packages/sklearn/datasets/_openml.py:968: FutureWarning: The default value of `parser` will change from `'liac-arff'` to `'auto'` in 1.4. You can set `parser='auto'` to silence this warning. Therefore, an `ImportError` will be raised from 1.4 if the dataset is dense and pandas is not installed. Note that the pandas parser may return different data types. See the Notes Section in fetch_openml's API doc for details.\n",
            "  warn(\n"
          ]
        }
      ],
      "source": [
        "# Download MNIST Dataset\n",
        "from sklearn.datasets import fetch_openml\n",
        "\n",
        "mnist = fetch_openml('mnist_784')"
      ]
    },
    {
      "cell_type": "code",
      "source": [
        "# Please read MNIST dataset description\n",
        "# It may help you to understand the dataset\n",
        "print(mnist.DESCR)"
      ],
      "metadata": {
        "colab": {
          "base_uri": "https://localhost:8080/"
        },
        "id": "hmkQ0KycbxPB",
        "outputId": "67cf4d7d-2bc7-4b61-da05-95bb52f75445"
      },
      "execution_count": 3,
      "outputs": [
        {
          "output_type": "stream",
          "name": "stdout",
          "text": [
            "**Author**: Yann LeCun, Corinna Cortes, Christopher J.C. Burges  \n",
            "**Source**: [MNIST Website](http://yann.lecun.com/exdb/mnist/) - Date unknown  \n",
            "**Please cite**:  \n",
            "\n",
            "The MNIST database of handwritten digits with 784 features, raw data available at: http://yann.lecun.com/exdb/mnist/. It can be split in a training set of the first 60,000 examples, and a test set of 10,000 examples  \n",
            "\n",
            "It is a subset of a larger set available from NIST. The digits have been size-normalized and centered in a fixed-size image. It is a good database for people who want to try learning techniques and pattern recognition methods on real-world data while spending minimal efforts on preprocessing and formatting. The original black and white (bilevel) images from NIST were size normalized to fit in a 20x20 pixel box while preserving their aspect ratio. The resulting images contain grey levels as a result of the anti-aliasing technique used by the normalization algorithm. the images were centered in a 28x28 image by computing the center of mass of the pixels, and translating the image so as to position this point at the center of the 28x28 field.  \n",
            "\n",
            "With some classification methods (particularly template-based methods, such as SVM and K-nearest neighbors), the error rate improves when the digits are centered by bounding box rather than center of mass. If you do this kind of pre-processing, you should report it in your publications. The MNIST database was constructed from NIST's NIST originally designated SD-3 as their training set and SD-1 as their test set. However, SD-3 is much cleaner and easier to recognize than SD-1. The reason for this can be found on the fact that SD-3 was collected among Census Bureau employees, while SD-1 was collected among high-school students. Drawing sensible conclusions from learning experiments requires that the result be independent of the choice of training set and test among the complete set of samples. Therefore it was necessary to build a new database by mixing NIST's datasets.  \n",
            "\n",
            "The MNIST training set is composed of 30,000 patterns from SD-3 and 30,000 patterns from SD-1. Our test set was composed of 5,000 patterns from SD-3 and 5,000 patterns from SD-1. The 60,000 pattern training set contained examples from approximately 250 writers. We made sure that the sets of writers of the training set and test set were disjoint. SD-1 contains 58,527 digit images written by 500 different writers. In contrast to SD-3, where blocks of data from each writer appeared in sequence, the data in SD-1 is scrambled. Writer identities for SD-1 is available and we used this information to unscramble the writers. We then split SD-1 in two: characters written by the first 250 writers went into our new training set. The remaining 250 writers were placed in our test set. Thus we had two sets with nearly 30,000 examples each. The new training set was completed with enough examples from SD-3, starting at pattern # 0, to make a full set of 60,000 training patterns. Similarly, the new test set was completed with SD-3 examples starting at pattern # 35,000 to make a full set with 60,000 test patterns. Only a subset of 10,000 test images (5,000 from SD-1 and 5,000 from SD-3) is available on this site. The full 60,000 sample training set is available.\n",
            "\n",
            "Downloaded from openml.org.\n"
          ]
        }
      ]
    },
    {
      "cell_type": "code",
      "source": [
        "# Inpsect dataset keys\n",
        "# It may help you to understand the dataset structure\n",
        "mnist.keys()"
      ],
      "metadata": {
        "colab": {
          "base_uri": "https://localhost:8080/"
        },
        "id": "E64aUOPLb7E4",
        "outputId": "79d63116-4cd4-4b98-af71-8b02f1a6e53a"
      },
      "execution_count": 4,
      "outputs": [
        {
          "output_type": "execute_result",
          "data": {
            "text/plain": [
              "dict_keys(['data', 'target', 'frame', 'categories', 'feature_names', 'target_names', 'DESCR', 'details', 'url'])"
            ]
          },
          "metadata": {},
          "execution_count": 4
        }
      ]
    },
    {
      "cell_type": "code",
      "source": [
        "print(mnist.data)"
      ],
      "metadata": {
        "colab": {
          "base_uri": "https://localhost:8080/"
        },
        "id": "uon4iLuwcAXI",
        "outputId": "e75b1791-4756-467c-98bb-74ec9a3d8115"
      },
      "execution_count": 5,
      "outputs": [
        {
          "output_type": "stream",
          "name": "stdout",
          "text": [
            "       pixel1  pixel2  pixel3  pixel4  pixel5  pixel6  pixel7  pixel8  pixel9  \\\n",
            "0         0.0     0.0     0.0     0.0     0.0     0.0     0.0     0.0     0.0   \n",
            "1         0.0     0.0     0.0     0.0     0.0     0.0     0.0     0.0     0.0   \n",
            "2         0.0     0.0     0.0     0.0     0.0     0.0     0.0     0.0     0.0   \n",
            "3         0.0     0.0     0.0     0.0     0.0     0.0     0.0     0.0     0.0   \n",
            "4         0.0     0.0     0.0     0.0     0.0     0.0     0.0     0.0     0.0   \n",
            "...       ...     ...     ...     ...     ...     ...     ...     ...     ...   \n",
            "69995     0.0     0.0     0.0     0.0     0.0     0.0     0.0     0.0     0.0   \n",
            "69996     0.0     0.0     0.0     0.0     0.0     0.0     0.0     0.0     0.0   \n",
            "69997     0.0     0.0     0.0     0.0     0.0     0.0     0.0     0.0     0.0   \n",
            "69998     0.0     0.0     0.0     0.0     0.0     0.0     0.0     0.0     0.0   \n",
            "69999     0.0     0.0     0.0     0.0     0.0     0.0     0.0     0.0     0.0   \n",
            "\n",
            "       pixel10  ...  pixel775  pixel776  pixel777  pixel778  pixel779  \\\n",
            "0          0.0  ...       0.0       0.0       0.0       0.0       0.0   \n",
            "1          0.0  ...       0.0       0.0       0.0       0.0       0.0   \n",
            "2          0.0  ...       0.0       0.0       0.0       0.0       0.0   \n",
            "3          0.0  ...       0.0       0.0       0.0       0.0       0.0   \n",
            "4          0.0  ...       0.0       0.0       0.0       0.0       0.0   \n",
            "...        ...  ...       ...       ...       ...       ...       ...   \n",
            "69995      0.0  ...       0.0       0.0       0.0       0.0       0.0   \n",
            "69996      0.0  ...       0.0       0.0       0.0       0.0       0.0   \n",
            "69997      0.0  ...       0.0       0.0       0.0       0.0       0.0   \n",
            "69998      0.0  ...       0.0       0.0       0.0       0.0       0.0   \n",
            "69999      0.0  ...       0.0       0.0       0.0       0.0       0.0   \n",
            "\n",
            "       pixel780  pixel781  pixel782  pixel783  pixel784  \n",
            "0           0.0       0.0       0.0       0.0       0.0  \n",
            "1           0.0       0.0       0.0       0.0       0.0  \n",
            "2           0.0       0.0       0.0       0.0       0.0  \n",
            "3           0.0       0.0       0.0       0.0       0.0  \n",
            "4           0.0       0.0       0.0       0.0       0.0  \n",
            "...         ...       ...       ...       ...       ...  \n",
            "69995       0.0       0.0       0.0       0.0       0.0  \n",
            "69996       0.0       0.0       0.0       0.0       0.0  \n",
            "69997       0.0       0.0       0.0       0.0       0.0  \n",
            "69998       0.0       0.0       0.0       0.0       0.0  \n",
            "69999       0.0       0.0       0.0       0.0       0.0  \n",
            "\n",
            "[70000 rows x 784 columns]\n"
          ]
        }
      ]
    },
    {
      "cell_type": "markdown",
      "source": [
        "1. Ensure the number of data points for each digit label (0-9). Is there any data imbalance in the MNIST dataset being used? Explain your group's answer and provide evidence!"
      ],
      "metadata": {
        "id": "iRLW3lvXcD2K"
      }
    },
    {
      "cell_type": "markdown",
      "source": [
        "2. Display the first 15 images from the MNIST dataset along with their labels. You can refer to Job Sheet 03 for guidance."
      ],
      "metadata": {
        "id": "N1Ff-WU3gs5y"
      }
    },
    {
      "cell_type": "code",
      "source": [
        "from tensorflow.keras.datasets import mnist #untuk mengakses dataset\n",
        "(X_train, Y_train), (X_test, Y_test) = mnist.load_data()"
      ],
      "metadata": {
        "colab": {
          "base_uri": "https://localhost:8080/"
        },
        "id": "Daijd616cMCJ",
        "outputId": "e02ab61b-fa55-47b1-e8f1-daaa5c2e98a2"
      },
      "execution_count": 6,
      "outputs": [
        {
          "output_type": "stream",
          "name": "stdout",
          "text": [
            "Downloading data from https://storage.googleapis.com/tensorflow/tf-keras-datasets/mnist.npz\n",
            "11490434/11490434 [==============================] - 0s 0us/step\n"
          ]
        }
      ]
    },
    {
      "cell_type": "code",
      "source": [
        "import matplotlib.pyplot as plt\n",
        "\n",
        "plt.rcParams['figure.figsize'] = [8, 6]\n",
        "\n",
        "# Sekarang Anda dapat membuat plot seperti biasa\n",
        "plt.plot([1, 2, 3, 4, 5], [1, 4, 9, 16, 25])\n",
        "plt.xlabel('X-Axis')\n",
        "plt.ylabel('Y-Axis')\n",
        "plt.title('Contoh Plot')\n",
        "plt.show()\n"
      ],
      "metadata": {
        "colab": {
          "base_uri": "https://localhost:8080/",
          "height": 564
        },
        "id": "4jgRhQFGhFC5",
        "outputId": "0db12802-66d5-4263-b61f-27ad999a0b92"
      },
      "execution_count": 7,
      "outputs": [
        {
          "output_type": "display_data",
          "data": {
            "text/plain": [
              "<Figure size 800x600 with 1 Axes>"
            ],
            "image/png": "[encoded data removed]"
          },
          "metadata": {}
        }
      ]
    },
    {
      "cell_type": "code",
      "source": [
        "# memilih sampel untuk diplot\n",
        "sample = 1\n",
        "image = X_train[sample]\n",
        "# plot sampelnya\n",
        "fig = plt.figure\n",
        "plt.imshow(image, cmap='gray_r')\n",
        "plt.show()"
      ],
      "metadata": {
        "colab": {
          "base_uri": "https://localhost:8080/",
          "height": 522
        },
        "id": "VAYsIISqizj5",
        "outputId": "bd22e9fb-4f1f-4755-9ffd-2231a6ba07f6"
      },
      "execution_count": 8,
      "outputs": [
        {
          "output_type": "display_data",
          "data": {
            "text/plain": [
              "<Figure size 800x600 with 1 Axes>"
            ],
            "image/png": "[encoded data removed]"
          },
          "metadata": {}
        }
      ]
    },
    {
      "cell_type": "code",
      "source": [
        "num = 15\n",
        "images = X_train[:num]\n",
        "labels = Y_train[:num]"
      ],
      "metadata": {
        "id": "Zgc_TtlVjNwX"
      },
      "execution_count": 9,
      "outputs": []
    },
    {
      "cell_type": "code",
      "source": [
        "num_row = 3\n",
        "num_col = 5\n",
        "# plot images\n",
        "fig, axes = plt.subplots(num_row, num_col, figsize=(1.5*num_col,2*num_row))\n",
        "for i in range(num):\n",
        "    ax = axes[i//num_col, i%num_col]\n",
        "    ax.imshow(images[i], cmap='gray_r')\n",
        "    ax.set_title('Label: {}'.format(labels[i]))\n",
        "plt.tight_layout()\n",
        "plt.show()"
      ],
      "metadata": {
        "colab": {
          "base_uri": "https://localhost:8080/",
          "height": 573
        },
        "id": "JwwfVs8akDKn",
        "outputId": "3138abe8-5a2a-44c9-b242-8eb7ac3ce065"
      },
      "execution_count": 10,
      "outputs": [
        {
          "output_type": "display_data",
          "data": {
            "text/plain": [
              "<Figure size 750x600 with 15 Axes>"
            ],
            "image/png": "[encoded data removed]"
          },
          "metadata": {}
        }
      ]
    },
    {
      "cell_type": "markdown",
      "source": [
        "4. Create training and testing data using ratios of 70:30, 80:20, and 90:10."
      ],
      "metadata": {
        "id": "qSEykFi1kw8o"
      }
    },
    {
      "cell_type": "code",
      "source": [
        "import pandas as pd\n",
        "import tensorflow as tf\n",
        "\n",
        "# Muat dataset MNIST dari tensorflow\n",
        "mnist = tf.keras.datasets.mnist\n",
        "(train_images, train_labels), (test_images, test_labels) = mnist.load_data()\n",
        "\n",
        "# Ubah data gambar menjadi satu dimensi\n",
        "train_images = train_images.reshape(train_images.shape[0], -1)\n",
        "test_images = test_images.reshape(test_images.shape[0], -1)\n",
        "\n",
        "# Buat DataFrame dari data gambar\n",
        "df = pd.DataFrame(train_images)\n",
        "\n",
        "# Tampilkan DataFrame\n",
        "print(df)\n"
      ],
      "metadata": {
        "colab": {
          "base_uri": "https://localhost:8080/"
        },
        "id": "UJEiYJWsm883",
        "outputId": "1e7c9b09-b8a5-4cf4-98cd-20b4772546e9"
      },
      "execution_count": 11,
      "outputs": [
        {
          "output_type": "stream",
          "name": "stdout",
          "text": [
            "       0    1    2    3    4    5    6    7    8    9    ...  774  775  776  \\\n",
            "0        0    0    0    0    0    0    0    0    0    0  ...    0    0    0   \n",
            "1        0    0    0    0    0    0    0    0    0    0  ...    0    0    0   \n",
            "2        0    0    0    0    0    0    0    0    0    0  ...    0    0    0   \n",
            "3        0    0    0    0    0    0    0    0    0    0  ...    0    0    0   \n",
            "4        0    0    0    0    0    0    0    0    0    0  ...    0    0    0   \n",
            "...    ...  ...  ...  ...  ...  ...  ...  ...  ...  ...  ...  ...  ...  ...   \n",
            "59995    0    0    0    0    0    0    0    0    0    0  ...    0    0    0   \n",
            "59996    0    0    0    0    0    0    0    0    0    0  ...    0    0    0   \n",
            "59997    0    0    0    0    0    0    0    0    0    0  ...    0    0    0   \n",
            "59998    0    0    0    0    0    0    0    0    0    0  ...    0    0    0   \n",
            "59999    0    0    0    0    0    0    0    0    0    0  ...    0    0    0   \n",
            "\n",
            "       777  778  779  780  781  782  783  \n",
            "0        0    0    0    0    0    0    0  \n",
            "1        0    0    0    0    0    0    0  \n",
            "2        0    0    0    0    0    0    0  \n",
            "3        0    0    0    0    0    0    0  \n",
            "4        0    0    0    0    0    0    0  \n",
            "...    ...  ...  ...  ...  ...  ...  ...  \n",
            "59995    0    0    0    0    0    0    0  \n",
            "59996    0    0    0    0    0    0    0  \n",
            "59997    0    0    0    0    0    0    0  \n",
            "59998    0    0    0    0    0    0    0  \n",
            "59999    0    0    0    0    0    0    0  \n",
            "\n",
            "[60000 rows x 784 columns]\n"
          ]
        }
      ]
    },
    {
      "cell_type": "markdown",
      "source": [
        "A. Ratio 70:30"
      ],
      "metadata": {
        "id": "uYQxjXtHniJQ"
      }
    },
    {
      "cell_type": "code",
      "source": [
        "training_data = df.sample(frac=0.7, random_state=25)\n",
        "testing_data = df.drop(training_data.index)\n",
        "\n",
        "print(f\"No. of training examples: {training_data.shape[0]}\")\n",
        "print(f\"No. of testing examples: {testing_data.shape[0]}\")"
      ],
      "metadata": {
        "colab": {
          "base_uri": "https://localhost:8080/"
        },
        "id": "u9SR4BIynnhm",
        "outputId": "c03f8ec7-4799-46e3-f388-3e1e265e9004"
      },
      "execution_count": 12,
      "outputs": [
        {
          "output_type": "stream",
          "name": "stdout",
          "text": [
            "No. of training examples: 42000\n",
            "No. of testing examples: 18000\n"
          ]
        }
      ]
    },
    {
      "cell_type": "markdown",
      "source": [
        "B. Ratio 80:20"
      ],
      "metadata": {
        "id": "r7woOeWSqXoO"
      }
    },
    {
      "cell_type": "code",
      "source": [
        "training_data = df.sample(frac=0.8, random_state=25)\n",
        "testing_data = df.drop(training_data.index)\n",
        "\n",
        "print(f\"No. of training examples: {training_data.shape[0]}\")\n",
        "print(f\"No. of testing examples: {testing_data.shape[0]}\")"
      ],
      "metadata": {
        "colab": {
          "base_uri": "https://localhost:8080/"
        },
        "id": "EDQ3ObIIqao1",
        "outputId": "bed7a8d6-05db-471c-c736-78d64a53d7fc"
      },
      "execution_count": 13,
      "outputs": [
        {
          "output_type": "stream",
          "name": "stdout",
          "text": [
            "No. of training examples: 48000\n",
            "No. of testing examples: 12000\n"
          ]
        }
      ]
    },
    {
      "cell_type": "markdown",
      "source": [
        "C. Ratio 90:10"
      ],
      "metadata": {
        "id": "52nC8JLVqd2u"
      }
    },
    {
      "cell_type": "code",
      "source": [
        "training_data = df.sample(frac=0.9, random_state=25)\n",
        "testing_data = df.drop(training_data.index)\n",
        "\n",
        "print(f\"No. of training examples: {training_data.shape[0]}\")\n",
        "print(f\"No. of testing examples: {testing_data.shape[0]}\")"
      ],
      "metadata": {
        "colab": {
          "base_uri": "https://localhost:8080/"
        },
        "id": "UVedpcstqgdH",
        "outputId": "8a9095c8-52c6-46ef-9fe4-08509cf1544c"
      },
      "execution_count": 14,
      "outputs": [
        {
          "output_type": "stream",
          "name": "stdout",
          "text": [
            "No. of training examples: 54000\n",
            "No. of testing examples: 6000\n"
          ]
        }
      ]
    },
    {
      "cell_type": "markdown",
      "source": [
        "5. Conduct classification using the Naive Bayes and SVM algorithms."
      ],
      "metadata": {
        "id": "ac5j4H8Tq9gc"
      }
    },
    {
      "cell_type": "markdown",
      "source": [
        "Naive Bayes"
      ],
      "metadata": {
        "id": "6Iz1IiG13GlI"
      }
    },
    {
      "cell_type": "code",
      "source": [
        "import numpy as np\n",
        "import matplotlib.pyplot as plt\n",
        "from sklearn.naive_bayes import GaussianNB\n",
        "from sklearn.metrics import confusion_matrix\n",
        "from tensorflow.keras.datasets import mnist"
      ],
      "metadata": {
        "id": "ezOKqPHDrB5M"
      },
      "execution_count": 15,
      "outputs": []
    },
    {
      "cell_type": "code",
      "source": [
        "(X_train, y_train), (X_test, y_test) = mnist.load_data()\n",
        "X_train = X_train.reshape(60000, 784)\n",
        "X_test = X_test.reshape(10000, 784)"
      ],
      "metadata": {
        "id": "7GkchcOq4IMs"
      },
      "execution_count": 18,
      "outputs": []
    },
    {
      "cell_type": "code",
      "source": [
        "X_test"
      ],
      "metadata": {
        "colab": {
          "base_uri": "https://localhost:8080/"
        },
        "id": "C1LCkBPAmFu-",
        "outputId": "07b5be93-9caf-4b46-8045-e1da89330932"
      },
      "execution_count": 25,
      "outputs": [
        {
          "output_type": "execute_result",
          "data": {
            "text/plain": [
              "array([[0, 0, 0, ..., 0, 0, 0],\n",
              "       [0, 0, 0, ..., 0, 0, 0],\n",
              "       [0, 0, 0, ..., 0, 0, 0],\n",
              "       ...,\n",
              "       [0, 0, 0, ..., 0, 0, 0],\n",
              "       [0, 0, 0, ..., 0, 0, 0],\n",
              "       [0, 0, 0, ..., 0, 0, 0]], dtype=uint8)"
            ]
          },
          "metadata": {},
          "execution_count": 25
        }
      ]
    },
    {
      "cell_type": "code",
      "source": [
        "plt.imshow(X_train[0].reshape((28, 28)), cmap = 'gray_r')\n",
        "plt.show()"
      ],
      "metadata": {
        "colab": {
          "base_uri": "https://localhost:8080/",
          "height": 522
        },
        "id": "a4h6E1tpmYhl",
        "outputId": "896bc0bb-7932-4d59-ae62-d68138ee25c1"
      },
      "execution_count": 29,
      "outputs": [
        {
          "output_type": "display_data",
          "data": {
            "text/plain": [
              "<Figure size 800x600 with 1 Axes>"
            ],
            "image/png": "[encoded data removed]"
          },
          "metadata": {}
        }
      ]
    },
    {
      "cell_type": "code",
      "source": [
        "nb_model = GaussianNB()"
      ],
      "metadata": {
        "id": "1dnfZpHanBDc"
      },
      "execution_count": 32,
      "outputs": []
    },
    {
      "cell_type": "code",
      "source": [
        "fit_nb = nb_model.fit(X_train, y_train)"
      ],
      "metadata": {
        "id": "1XyvSptUnEya"
      },
      "execution_count": 33,
      "outputs": []
    },
    {
      "cell_type": "code",
      "source": [
        "predictions = fit_nb.predict(X_test)\n",
        "con_matrix = confusion_matrix(y_test, predictions)\n",
        "print(con_matrix)"
      ],
      "metadata": {
        "colab": {
          "base_uri": "https://localhost:8080/"
        },
        "id": "rWqHjK_9j-qT",
        "outputId": "d0afcf0d-84c7-4427-e9e4-27bfdadcc588"
      },
      "execution_count": 34,
      "outputs": [
        {
          "output_type": "stream",
          "name": "stdout",
          "text": [
            "[[ 870    0    3    5    2    5   31    1   35   28]\n",
            " [   0 1079    2    1    0    0   10    0   38    5]\n",
            " [  79   25  266   91    5    2  269    4  271   20]\n",
            " [  32   39    6  353    2    3   51    8  409  107]\n",
            " [  19    2    5    4  168    7   63    7  210  497]\n",
            " [  71   25    1   20    3   44   40    2  586  100]\n",
            " [  12   12    3    1    1    7  895    0   26    1]\n",
            " [   0   15    2   10    5    1    5  280   39  671]\n",
            " [  13   72    3    7    3   11   12    4  648  201]\n",
            " [   5    7    3    6    1    0    1   13   18  955]]\n"
          ]
        }
      ]
    },
    {
      "cell_type": "code",
      "source": [
        "def diagonal_sum(con_matrix):\n",
        "  sum = 0\n",
        "  for i in range(10):\n",
        "    for j in range(10):\n",
        "      if i==j: sum+= con_matrix[i, j]\n",
        "  return sum\n"
      ],
      "metadata": {
        "id": "hW0kM1jAkqK2"
      },
      "execution_count": 36,
      "outputs": []
    },
    {
      "cell_type": "code",
      "source": [
        "sum = diagonal_sum(con_matrix)\n",
        "print(sum)\n",
        "print(f'Accuracy %: {sum/10000}')"
      ],
      "metadata": {
        "colab": {
          "base_uri": "https://localhost:8080/"
        },
        "id": "TB3dISOVlQur",
        "outputId": "ba72d6c2-f1f2-471c-a9dd-9912af57528e"
      },
      "execution_count": 37,
      "outputs": [
        {
          "output_type": "stream",
          "name": "stdout",
          "text": [
            "5558\n",
            "Accuracy %: 0.5558\n"
          ]
        }
      ]
    },
    {
      "cell_type": "code",
      "source": [
        "predictions_2 = fit_nb.predict(X_train)\n",
        "con_matrix_2 = confusion_matrix(y_train, predictions_2)\n",
        "print(con_matrix_2)"
      ],
      "metadata": {
        "colab": {
          "base_uri": "https://localhost:8080/"
        },
        "id": "D4UMpRcAnekj",
        "outputId": "c22bb89e-e1de-40d1-b02b-cf0425f60ead"
      },
      "execution_count": 38,
      "outputs": [
        {
          "output_type": "stream",
          "name": "stdout",
          "text": [
            "[[5206    9   33   16    9   13  165    5  356  111]\n",
            " [   4 6341   15   33    3   12   74    4  173   83]\n",
            " [ 484  152 1786  474   33   37 1443   17 1444   88]\n",
            " [ 274  295   49 2277   11   15  268   46 2274  622]\n",
            " [ 114   39   49   33 1027   35  483   21 1259 2782]\n",
            " [ 525  122   33  125   34  336  273   11 3411  551]\n",
            " [  47   92   25    3    4   19 5572    0  148    8]\n",
            " [  27   36    9   54   51    8   15 1919  190 3956]\n",
            " [  88  722   23   51   19   33   80    6 3802 1027]\n",
            " [  30   31   17    7   33    4    4   83  112 5628]]\n"
          ]
        }
      ]
    },
    {
      "cell_type": "code",
      "source": [
        "sum_2 = diagonal_sum(con_matrix_2)\n",
        "print(sum_2)\n",
        "print(f'Accuracy %: {sum_2/60000}')"
      ],
      "metadata": {
        "colab": {
          "base_uri": "https://localhost:8080/"
        },
        "id": "TrFRxKaTn60q",
        "outputId": "389e1bfc-a9b7-4fb5-eece-bc667aefd595"
      },
      "execution_count": 40,
      "outputs": [
        {
          "output_type": "stream",
          "name": "stdout",
          "text": [
            "33894\n",
            "Accuracy %: 0.5649\n"
          ]
        }
      ]
    },
    {
      "cell_type": "code",
      "source": [
        "plt.imshow(con_matrix, cmap = 'gray_r', interpolation='nearest')\n",
        "plt.xlabel('predictions')\n",
        "plt.ylabel('actual values')\n",
        "plt.show()"
      ],
      "metadata": {
        "colab": {
          "base_uri": "https://localhost:8080/",
          "height": 542
        },
        "id": "T85UaCTJoIiN",
        "outputId": "8bcd3d23-ed4a-45ed-f43b-4f0730b43645"
      },
      "execution_count": 43,
      "outputs": [
        {
          "output_type": "display_data",
          "data": {
            "text/plain": [
              "<Figure size 800x600 with 1 Axes>"
            ],
            "image/png": "[encoded data removed]"
          },
          "metadata": {}
        }
      ]
    },
    {
      "cell_type": "code",
      "source": [
        "plt.imshow(con_matrix_2, cmap = 'gray_r', interpolation='nearest')\n",
        "plt.xlabel('predictions')\n",
        "plt.ylabel('actual values')\n",
        "plt.show()"
      ],
      "metadata": {
        "colab": {
          "base_uri": "https://localhost:8080/",
          "height": 542
        },
        "id": "rOYUVlmeon-r",
        "outputId": "61433ba4-dfae-4a44-cdfd-25d7b28b8686"
      },
      "execution_count": 44,
      "outputs": [
        {
          "output_type": "display_data",
          "data": {
            "text/plain": [
              "<Figure size 800x600 with 1 Axes>"
            ],
            "image/png": "[encoded data removed]"
          },
          "metadata": {}
        }
      ]
    },
    {
      "cell_type": "code",
      "source": [
        "print(5206/60000)\n",
        "print(870/10000)"
      ],
      "metadata": {
        "colab": {
          "base_uri": "https://localhost:8080/"
        },
        "id": "lPK3S7KAos3W",
        "outputId": "f1b61fbd-d88a-4ca3-8933-83c0b24b907b"
      },
      "execution_count": 46,
      "outputs": [
        {
          "output_type": "stream",
          "name": "stdout",
          "text": [
            "0.08676666666666667\n",
            "0.087\n"
          ]
        }
      ]
    }
  ]
}